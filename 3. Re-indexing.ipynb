{
 "cells": [
  {
   "cell_type": "code",
   "execution_count": 2,
   "metadata": {},
   "outputs": [],
   "source": [
    "import numpy as np\n",
    "from pandas import Series, DataFrame\n",
    "import pandas as pd\n",
    "\n",
    "from numpy.random import randn"
   ]
  },
  {
   "cell_type": "code",
   "execution_count": 3,
   "metadata": {},
   "outputs": [
    {
     "data": {
      "text/plain": [
       "A    1\n",
       "B    2\n",
       "C    3\n",
       "D    4\n",
       "dtype: int64"
      ]
     },
     "execution_count": 3,
     "metadata": {},
     "output_type": "execute_result"
    }
   ],
   "source": [
    "ser1 = Series([1,2,3,4],index=['A','B','C','D'])\n",
    "ser1"
   ]
  },
  {
   "cell_type": "code",
   "execution_count": 4,
   "metadata": {},
   "outputs": [
    {
     "data": {
      "text/plain": [
       "A    1.0\n",
       "B    2.0\n",
       "C    3.0\n",
       "D    4.0\n",
       "E    NaN\n",
       "F    NaN\n",
       "dtype: float64"
      ]
     },
     "execution_count": 4,
     "metadata": {},
     "output_type": "execute_result"
    }
   ],
   "source": [
    "ser2 = ser1.reindex(['A','B','C','D','E','F'])\n",
    "ser2"
   ]
  },
  {
   "cell_type": "code",
   "execution_count": 6,
   "metadata": {},
   "outputs": [
    {
     "data": {
      "text/plain": [
       "A    1.0\n",
       "B    2.0\n",
       "C    3.0\n",
       "D    4.0\n",
       "E    NaN\n",
       "F    NaN\n",
       "G    0.0\n",
       "dtype: float64"
      ]
     },
     "execution_count": 6,
     "metadata": {},
     "output_type": "execute_result"
    }
   ],
   "source": [
    "ser2 = ser2.reindex(['A','B','C','D','E','F','G'],fill_value=0)\n",
    "ser2"
   ]
  },
  {
   "cell_type": "code",
   "execution_count": 8,
   "metadata": {},
   "outputs": [
    {
     "data": {
      "text/plain": [
       "0        USA\n",
       "5     Mexico\n",
       "10    Canada\n",
       "dtype: object"
      ]
     },
     "execution_count": 8,
     "metadata": {},
     "output_type": "execute_result"
    }
   ],
   "source": [
    "ser3 = Series(['USA','Mexico','Canada'],index=[0,5,10])\n",
    "ser3"
   ]
  },
  {
   "cell_type": "code",
   "execution_count": 10,
   "metadata": {},
   "outputs": [
    {
     "data": {
      "text/plain": [
       "0        USA\n",
       "1        USA\n",
       "2        USA\n",
       "3        USA\n",
       "4        USA\n",
       "5     Mexico\n",
       "6     Mexico\n",
       "7     Mexico\n",
       "8     Mexico\n",
       "9     Mexico\n",
       "10    Canada\n",
       "11    Canada\n",
       "12    Canada\n",
       "13    Canada\n",
       "14    Canada\n",
       "dtype: object"
      ]
     },
     "execution_count": 10,
     "metadata": {},
     "output_type": "execute_result"
    }
   ],
   "source": [
    "ser3 = Series(['USA','Mexico','Canada'],index=[0,5,10])\n",
    "ranger = range(15)\n",
    "ser3 = ser3.reindex(ranger,method='ffill')\n",
    "ser3"
   ]
  },
  {
   "cell_type": "code",
   "execution_count": 11,
   "metadata": {},
   "outputs": [
    {
     "data": {
      "text/html": [
       "<div>\n",
       "<style scoped>\n",
       "    .dataframe tbody tr th:only-of-type {\n",
       "        vertical-align: middle;\n",
       "    }\n",
       "\n",
       "    .dataframe tbody tr th {\n",
       "        vertical-align: top;\n",
       "    }\n",
       "\n",
       "    .dataframe thead th {\n",
       "        text-align: right;\n",
       "    }\n",
       "</style>\n",
       "<table border=\"1\" class=\"dataframe\">\n",
       "  <thead>\n",
       "    <tr style=\"text-align: right;\">\n",
       "      <th></th>\n",
       "      <th>col1</th>\n",
       "      <th>col2</th>\n",
       "      <th>col3</th>\n",
       "      <th>col4</th>\n",
       "      <th>col5</th>\n",
       "    </tr>\n",
       "  </thead>\n",
       "  <tbody>\n",
       "    <tr>\n",
       "      <th>A</th>\n",
       "      <td>1.726279</td>\n",
       "      <td>0.399208</td>\n",
       "      <td>-0.206808</td>\n",
       "      <td>0.837601</td>\n",
       "      <td>0.942574</td>\n",
       "    </tr>\n",
       "    <tr>\n",
       "      <th>B</th>\n",
       "      <td>-1.150117</td>\n",
       "      <td>-1.426988</td>\n",
       "      <td>-0.143337</td>\n",
       "      <td>-0.112069</td>\n",
       "      <td>-0.052064</td>\n",
       "    </tr>\n",
       "    <tr>\n",
       "      <th>D</th>\n",
       "      <td>0.535684</td>\n",
       "      <td>1.052571</td>\n",
       "      <td>0.008699</td>\n",
       "      <td>-1.088615</td>\n",
       "      <td>-0.619882</td>\n",
       "    </tr>\n",
       "    <tr>\n",
       "      <th>E</th>\n",
       "      <td>0.512969</td>\n",
       "      <td>0.438532</td>\n",
       "      <td>-0.078294</td>\n",
       "      <td>0.984119</td>\n",
       "      <td>-1.344714</td>\n",
       "    </tr>\n",
       "    <tr>\n",
       "      <th>F</th>\n",
       "      <td>1.572790</td>\n",
       "      <td>0.061981</td>\n",
       "      <td>0.499439</td>\n",
       "      <td>1.462859</td>\n",
       "      <td>-1.619838</td>\n",
       "    </tr>\n",
       "  </tbody>\n",
       "</table>\n",
       "</div>"
      ],
      "text/plain": [
       "       col1      col2      col3      col4      col5\n",
       "A  1.726279  0.399208 -0.206808  0.837601  0.942574\n",
       "B -1.150117 -1.426988 -0.143337 -0.112069 -0.052064\n",
       "D  0.535684  1.052571  0.008699 -1.088615 -0.619882\n",
       "E  0.512969  0.438532 -0.078294  0.984119 -1.344714\n",
       "F  1.572790  0.061981  0.499439  1.462859 -1.619838"
      ]
     },
     "execution_count": 11,
     "metadata": {},
     "output_type": "execute_result"
    }
   ],
   "source": [
    "#DataFrame Re-indexing\n",
    "dframe = DataFrame(randn(25).reshape((5,5)),index=['A','B','D','E','F'],columns=['col1','col2','col3','col4','col5'])\n",
    "#reshape((5,5)) random numbers of an 5x5 array\n",
    "dframe"
   ]
  },
  {
   "cell_type": "code",
   "execution_count": 13,
   "metadata": {},
   "outputs": [
    {
     "data": {
      "text/html": [
       "<div>\n",
       "<style scoped>\n",
       "    .dataframe tbody tr th:only-of-type {\n",
       "        vertical-align: middle;\n",
       "    }\n",
       "\n",
       "    .dataframe tbody tr th {\n",
       "        vertical-align: top;\n",
       "    }\n",
       "\n",
       "    .dataframe thead th {\n",
       "        text-align: right;\n",
       "    }\n",
       "</style>\n",
       "<table border=\"1\" class=\"dataframe\">\n",
       "  <thead>\n",
       "    <tr style=\"text-align: right;\">\n",
       "      <th></th>\n",
       "      <th>col1</th>\n",
       "      <th>col2</th>\n",
       "      <th>col3</th>\n",
       "      <th>col4</th>\n",
       "      <th>col5</th>\n",
       "    </tr>\n",
       "  </thead>\n",
       "  <tbody>\n",
       "    <tr>\n",
       "      <th>A</th>\n",
       "      <td>1.726279</td>\n",
       "      <td>0.399208</td>\n",
       "      <td>-0.206808</td>\n",
       "      <td>0.837601</td>\n",
       "      <td>0.942574</td>\n",
       "    </tr>\n",
       "    <tr>\n",
       "      <th>B</th>\n",
       "      <td>-1.150117</td>\n",
       "      <td>-1.426988</td>\n",
       "      <td>-0.143337</td>\n",
       "      <td>-0.112069</td>\n",
       "      <td>-0.052064</td>\n",
       "    </tr>\n",
       "    <tr>\n",
       "      <th>C</th>\n",
       "      <td>NaN</td>\n",
       "      <td>NaN</td>\n",
       "      <td>NaN</td>\n",
       "      <td>NaN</td>\n",
       "      <td>NaN</td>\n",
       "    </tr>\n",
       "    <tr>\n",
       "      <th>D</th>\n",
       "      <td>0.535684</td>\n",
       "      <td>1.052571</td>\n",
       "      <td>0.008699</td>\n",
       "      <td>-1.088615</td>\n",
       "      <td>-0.619882</td>\n",
       "    </tr>\n",
       "    <tr>\n",
       "      <th>E</th>\n",
       "      <td>0.512969</td>\n",
       "      <td>0.438532</td>\n",
       "      <td>-0.078294</td>\n",
       "      <td>0.984119</td>\n",
       "      <td>-1.344714</td>\n",
       "    </tr>\n",
       "    <tr>\n",
       "      <th>F</th>\n",
       "      <td>1.572790</td>\n",
       "      <td>0.061981</td>\n",
       "      <td>0.499439</td>\n",
       "      <td>1.462859</td>\n",
       "      <td>-1.619838</td>\n",
       "    </tr>\n",
       "  </tbody>\n",
       "</table>\n",
       "</div>"
      ],
      "text/plain": [
       "       col1      col2      col3      col4      col5\n",
       "A  1.726279  0.399208 -0.206808  0.837601  0.942574\n",
       "B -1.150117 -1.426988 -0.143337 -0.112069 -0.052064\n",
       "C       NaN       NaN       NaN       NaN       NaN\n",
       "D  0.535684  1.052571  0.008699 -1.088615 -0.619882\n",
       "E  0.512969  0.438532 -0.078294  0.984119 -1.344714\n",
       "F  1.572790  0.061981  0.499439  1.462859 -1.619838"
      ]
     },
     "execution_count": 13,
     "metadata": {},
     "output_type": "execute_result"
    }
   ],
   "source": [
    "dframe2 = dframe.reindex(['A','B','C','D','E','F'])\n",
    "dframe2"
   ]
  },
  {
   "cell_type": "code",
   "execution_count": 18,
   "metadata": {},
   "outputs": [
    {
     "data": {
      "text/html": [
       "<div>\n",
       "<style scoped>\n",
       "    .dataframe tbody tr th:only-of-type {\n",
       "        vertical-align: middle;\n",
       "    }\n",
       "\n",
       "    .dataframe tbody tr th {\n",
       "        vertical-align: top;\n",
       "    }\n",
       "\n",
       "    .dataframe thead th {\n",
       "        text-align: right;\n",
       "    }\n",
       "</style>\n",
       "<table border=\"1\" class=\"dataframe\">\n",
       "  <thead>\n",
       "    <tr style=\"text-align: right;\">\n",
       "      <th></th>\n",
       "      <th>col1</th>\n",
       "      <th>col2</th>\n",
       "      <th>col3</th>\n",
       "      <th>col4</th>\n",
       "      <th>col5</th>\n",
       "      <th>col6</th>\n",
       "    </tr>\n",
       "  </thead>\n",
       "  <tbody>\n",
       "    <tr>\n",
       "      <th>A</th>\n",
       "      <td>1.726279</td>\n",
       "      <td>0.399208</td>\n",
       "      <td>-0.206808</td>\n",
       "      <td>0.837601</td>\n",
       "      <td>0.942574</td>\n",
       "      <td>NaN</td>\n",
       "    </tr>\n",
       "    <tr>\n",
       "      <th>B</th>\n",
       "      <td>-1.150117</td>\n",
       "      <td>-1.426988</td>\n",
       "      <td>-0.143337</td>\n",
       "      <td>-0.112069</td>\n",
       "      <td>-0.052064</td>\n",
       "      <td>NaN</td>\n",
       "    </tr>\n",
       "    <tr>\n",
       "      <th>C</th>\n",
       "      <td>NaN</td>\n",
       "      <td>NaN</td>\n",
       "      <td>NaN</td>\n",
       "      <td>NaN</td>\n",
       "      <td>NaN</td>\n",
       "      <td>NaN</td>\n",
       "    </tr>\n",
       "    <tr>\n",
       "      <th>D</th>\n",
       "      <td>0.535684</td>\n",
       "      <td>1.052571</td>\n",
       "      <td>0.008699</td>\n",
       "      <td>-1.088615</td>\n",
       "      <td>-0.619882</td>\n",
       "      <td>NaN</td>\n",
       "    </tr>\n",
       "    <tr>\n",
       "      <th>E</th>\n",
       "      <td>0.512969</td>\n",
       "      <td>0.438532</td>\n",
       "      <td>-0.078294</td>\n",
       "      <td>0.984119</td>\n",
       "      <td>-1.344714</td>\n",
       "      <td>NaN</td>\n",
       "    </tr>\n",
       "    <tr>\n",
       "      <th>F</th>\n",
       "      <td>1.572790</td>\n",
       "      <td>0.061981</td>\n",
       "      <td>0.499439</td>\n",
       "      <td>1.462859</td>\n",
       "      <td>-1.619838</td>\n",
       "      <td>NaN</td>\n",
       "    </tr>\n",
       "  </tbody>\n",
       "</table>\n",
       "</div>"
      ],
      "text/plain": [
       "       col1      col2      col3      col4      col5  col6\n",
       "A  1.726279  0.399208 -0.206808  0.837601  0.942574   NaN\n",
       "B -1.150117 -1.426988 -0.143337 -0.112069 -0.052064   NaN\n",
       "C       NaN       NaN       NaN       NaN       NaN   NaN\n",
       "D  0.535684  1.052571  0.008699 -1.088615 -0.619882   NaN\n",
       "E  0.512969  0.438532 -0.078294  0.984119 -1.344714   NaN\n",
       "F  1.572790  0.061981  0.499439  1.462859 -1.619838   NaN"
      ]
     },
     "execution_count": 18,
     "metadata": {},
     "output_type": "execute_result"
    }
   ],
   "source": [
    "new_columns = ['col1','col2','col3','col4','col5','col6']\n",
    "dframe2 = dframe2.reindex(columns=new_columns)\n",
    "dframe2"
   ]
  },
  {
   "cell_type": "code",
   "execution_count": 19,
   "metadata": {},
   "outputs": [
    {
     "data": {
      "text/html": [
       "<div>\n",
       "<style scoped>\n",
       "    .dataframe tbody tr th:only-of-type {\n",
       "        vertical-align: middle;\n",
       "    }\n",
       "\n",
       "    .dataframe tbody tr th {\n",
       "        vertical-align: top;\n",
       "    }\n",
       "\n",
       "    .dataframe thead th {\n",
       "        text-align: right;\n",
       "    }\n",
       "</style>\n",
       "<table border=\"1\" class=\"dataframe\">\n",
       "  <thead>\n",
       "    <tr style=\"text-align: right;\">\n",
       "      <th></th>\n",
       "      <th>col1</th>\n",
       "      <th>col2</th>\n",
       "      <th>col3</th>\n",
       "      <th>col4</th>\n",
       "      <th>col5</th>\n",
       "    </tr>\n",
       "  </thead>\n",
       "  <tbody>\n",
       "    <tr>\n",
       "      <th>A</th>\n",
       "      <td>1.726279</td>\n",
       "      <td>0.399208</td>\n",
       "      <td>-0.206808</td>\n",
       "      <td>0.837601</td>\n",
       "      <td>0.942574</td>\n",
       "    </tr>\n",
       "    <tr>\n",
       "      <th>B</th>\n",
       "      <td>-1.150117</td>\n",
       "      <td>-1.426988</td>\n",
       "      <td>-0.143337</td>\n",
       "      <td>-0.112069</td>\n",
       "      <td>-0.052064</td>\n",
       "    </tr>\n",
       "    <tr>\n",
       "      <th>D</th>\n",
       "      <td>0.535684</td>\n",
       "      <td>1.052571</td>\n",
       "      <td>0.008699</td>\n",
       "      <td>-1.088615</td>\n",
       "      <td>-0.619882</td>\n",
       "    </tr>\n",
       "    <tr>\n",
       "      <th>E</th>\n",
       "      <td>0.512969</td>\n",
       "      <td>0.438532</td>\n",
       "      <td>-0.078294</td>\n",
       "      <td>0.984119</td>\n",
       "      <td>-1.344714</td>\n",
       "    </tr>\n",
       "    <tr>\n",
       "      <th>F</th>\n",
       "      <td>1.572790</td>\n",
       "      <td>0.061981</td>\n",
       "      <td>0.499439</td>\n",
       "      <td>1.462859</td>\n",
       "      <td>-1.619838</td>\n",
       "    </tr>\n",
       "  </tbody>\n",
       "</table>\n",
       "</div>"
      ],
      "text/plain": [
       "       col1      col2      col3      col4      col5\n",
       "A  1.726279  0.399208 -0.206808  0.837601  0.942574\n",
       "B -1.150117 -1.426988 -0.143337 -0.112069 -0.052064\n",
       "D  0.535684  1.052571  0.008699 -1.088615 -0.619882\n",
       "E  0.512969  0.438532 -0.078294  0.984119 -1.344714\n",
       "F  1.572790  0.061981  0.499439  1.462859 -1.619838"
      ]
     },
     "execution_count": 19,
     "metadata": {},
     "output_type": "execute_result"
    }
   ],
   "source": [
    "dframe"
   ]
  },
  {
   "cell_type": "code",
   "execution_count": 23,
   "metadata": {},
   "outputs": [
    {
     "data": {
      "text/html": [
       "<div>\n",
       "<style scoped>\n",
       "    .dataframe tbody tr th:only-of-type {\n",
       "        vertical-align: middle;\n",
       "    }\n",
       "\n",
       "    .dataframe tbody tr th {\n",
       "        vertical-align: top;\n",
       "    }\n",
       "\n",
       "    .dataframe thead th {\n",
       "        text-align: right;\n",
       "    }\n",
       "</style>\n",
       "<table border=\"1\" class=\"dataframe\">\n",
       "  <thead>\n",
       "    <tr style=\"text-align: right;\">\n",
       "      <th></th>\n",
       "      <th>col1</th>\n",
       "      <th>col2</th>\n",
       "      <th>col3</th>\n",
       "      <th>col4</th>\n",
       "      <th>col5</th>\n",
       "      <th>col6</th>\n",
       "    </tr>\n",
       "  </thead>\n",
       "  <tbody>\n",
       "    <tr>\n",
       "      <th>A</th>\n",
       "      <td>1.726279</td>\n",
       "      <td>0.399208</td>\n",
       "      <td>-0.206808</td>\n",
       "      <td>0.837601</td>\n",
       "      <td>0.942574</td>\n",
       "      <td>NaN</td>\n",
       "    </tr>\n",
       "    <tr>\n",
       "      <th>B</th>\n",
       "      <td>-1.150117</td>\n",
       "      <td>-1.426988</td>\n",
       "      <td>-0.143337</td>\n",
       "      <td>-0.112069</td>\n",
       "      <td>-0.052064</td>\n",
       "      <td>NaN</td>\n",
       "    </tr>\n",
       "    <tr>\n",
       "      <th>C</th>\n",
       "      <td>NaN</td>\n",
       "      <td>NaN</td>\n",
       "      <td>NaN</td>\n",
       "      <td>NaN</td>\n",
       "      <td>NaN</td>\n",
       "      <td>NaN</td>\n",
       "    </tr>\n",
       "    <tr>\n",
       "      <th>D</th>\n",
       "      <td>0.535684</td>\n",
       "      <td>1.052571</td>\n",
       "      <td>0.008699</td>\n",
       "      <td>-1.088615</td>\n",
       "      <td>-0.619882</td>\n",
       "      <td>NaN</td>\n",
       "    </tr>\n",
       "    <tr>\n",
       "      <th>E</th>\n",
       "      <td>0.512969</td>\n",
       "      <td>0.438532</td>\n",
       "      <td>-0.078294</td>\n",
       "      <td>0.984119</td>\n",
       "      <td>-1.344714</td>\n",
       "      <td>NaN</td>\n",
       "    </tr>\n",
       "    <tr>\n",
       "      <th>F</th>\n",
       "      <td>1.572790</td>\n",
       "      <td>0.061981</td>\n",
       "      <td>0.499439</td>\n",
       "      <td>1.462859</td>\n",
       "      <td>-1.619838</td>\n",
       "      <td>NaN</td>\n",
       "    </tr>\n",
       "  </tbody>\n",
       "</table>\n",
       "</div>"
      ],
      "text/plain": [
       "       col1      col2      col3      col4      col5  col6\n",
       "A  1.726279  0.399208 -0.206808  0.837601  0.942574   NaN\n",
       "B -1.150117 -1.426988 -0.143337 -0.112069 -0.052064   NaN\n",
       "C       NaN       NaN       NaN       NaN       NaN   NaN\n",
       "D  0.535684  1.052571  0.008699 -1.088615 -0.619882   NaN\n",
       "E  0.512969  0.438532 -0.078294  0.984119 -1.344714   NaN\n",
       "F  1.572790  0.061981  0.499439  1.462859 -1.619838   NaN"
      ]
     },
     "execution_count": 23,
     "metadata": {},
     "output_type": "execute_result"
    }
   ],
   "source": [
    "dframe2"
   ]
  },
  {
   "cell_type": "code",
   "execution_count": 28,
   "metadata": {},
   "outputs": [
    {
     "name": "stdout",
     "output_type": "stream",
     "text": [
      "       col1      col2      col3      col4      col5  col6\n",
      "A  1.726279  0.399208 -0.206808  0.837601  0.942574   NaN\n",
      "B -1.150117 -1.426988 -0.143337 -0.112069 -0.052064   NaN\n",
      "C       NaN       NaN       NaN       NaN       NaN   NaN\n",
      "D  0.535684  1.052571  0.008699 -1.088615 -0.619882   NaN\n",
      "E  0.512969  0.438532 -0.078294  0.984119 -1.344714   NaN\n",
      "F  1.572790  0.061981  0.499439  1.462859 -1.619838   NaN\n"
     ]
    }
   ],
   "source": [
    "print(dframe.reindex(['A','B','C','D','E','F'],columns=new_columns))"
   ]
  },
  {
   "cell_type": "code",
   "execution_count": null,
   "metadata": {},
   "outputs": [],
   "source": []
  }
 ],
 "metadata": {
  "kernelspec": {
   "display_name": "Python 3",
   "language": "python",
   "name": "python3"
  },
  "language_info": {
   "codemirror_mode": {
    "name": "ipython",
    "version": 3
   },
   "file_extension": ".py",
   "mimetype": "text/x-python",
   "name": "python",
   "nbconvert_exporter": "python",
   "pygments_lexer": "ipython3",
   "version": "3.7.6"
  }
 },
 "nbformat": 4,
 "nbformat_minor": 4
}
